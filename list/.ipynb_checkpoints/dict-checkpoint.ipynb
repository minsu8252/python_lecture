{
 "cells": [
  {
   "cell_type": "markdown",
   "id": "0efeaec4",
   "metadata": {},
   "source": [
    "# 딕셔너리"
   ]
  },
  {
   "cell_type": "markdown",
   "id": "26aabfea",
   "metadata": {},
   "source": [
    "### {Key1:Value1, Key2:Value2, Key3:Value3, ...}"
   ]
  },
  {
   "cell_type": "code",
   "execution_count": 18,
   "id": "bbf275d2",
   "metadata": {},
   "outputs": [
    {
     "data": {
      "text/html": [
       "<style>.container { width:100% !important; }</style>"
      ],
      "text/plain": [
       "<IPython.core.display.HTML object>"
      ]
     },
     "metadata": {},
     "output_type": "display_data"
    }
   ],
   "source": [
    "from IPython.core.display import display, HTML\n",
    "display(HTML(\"<style>.container { width:100% !important; }</style>\"))"
   ]
  },
  {
   "cell_type": "code",
   "execution_count": 4,
   "id": "e0afb49e",
   "metadata": {},
   "outputs": [
    {
     "data": {
      "text/plain": [
       "dict"
      ]
     },
     "execution_count": 4,
     "metadata": {},
     "output_type": "execute_result"
    }
   ],
   "source": [
    "dic = dict()\n",
    "type(dic)"
   ]
  },
  {
   "cell_type": "code",
   "execution_count": 5,
   "id": "94a5b278",
   "metadata": {},
   "outputs": [
    {
     "data": {
      "text/plain": [
       "3"
      ]
     },
     "execution_count": 5,
     "metadata": {},
     "output_type": "execute_result"
    }
   ],
   "source": [
    "dic = {'name':'pey', 'phone':'0119993323', 'birth': '1118'}\n",
    "len(dic)"
   ]
  },
  {
   "cell_type": "code",
   "execution_count": 6,
   "id": "7ddbb067",
   "metadata": {},
   "outputs": [
    {
     "data": {
      "text/plain": [
       "{1: 'a', 2: 'b'}"
      ]
     },
     "execution_count": 6,
     "metadata": {},
     "output_type": "execute_result"
    }
   ],
   "source": [
    "a = {1: 'a'}\n",
    "a[2] = 'b'\n",
    "a"
   ]
  },
  {
   "cell_type": "code",
   "execution_count": 7,
   "id": "47df1cad",
   "metadata": {},
   "outputs": [
    {
     "data": {
      "text/plain": [
       "{1: 'a', 2: 'b', 'c': 1}"
      ]
     },
     "execution_count": 7,
     "metadata": {},
     "output_type": "execute_result"
    }
   ],
   "source": [
    "a['c']=1\n",
    "a['c']=1\n",
    "a"
   ]
  },
  {
   "cell_type": "code",
   "execution_count": 8,
   "id": "dac58616",
   "metadata": {},
   "outputs": [
    {
     "data": {
      "text/plain": [
       "{1: 'a', 2: 'b', 'c': 1, 3: [1, 2, 3]}"
      ]
     },
     "execution_count": 8,
     "metadata": {},
     "output_type": "execute_result"
    }
   ],
   "source": [
    "a[3] = [1,2,3]\n",
    "a"
   ]
  },
  {
   "cell_type": "markdown",
   "id": "8828395d",
   "metadata": {},
   "source": [
    "#### 딕셔너리 요소 삭제하기"
   ]
  },
  {
   "cell_type": "code",
   "execution_count": 9,
   "id": "064cbc4e",
   "metadata": {},
   "outputs": [
    {
     "data": {
      "text/plain": [
       "{2: 'b', 'c': 1, 3: [1, 2, 3]}"
      ]
     },
     "execution_count": 9,
     "metadata": {},
     "output_type": "execute_result"
    }
   ],
   "source": [
    "del a[1]\n",
    "a"
   ]
  },
  {
   "cell_type": "code",
   "execution_count": 13,
   "id": "e9ee7e68",
   "metadata": {},
   "outputs": [
    {
     "data": {
      "text/plain": [
       "'피겨스케이팅'"
      ]
     },
     "execution_count": 13,
     "metadata": {},
     "output_type": "execute_result"
    }
   ],
   "source": [
    "data_dic = {\"김연아\":\"피겨스케이팅\", \"류현진\":\"야구\", \"박지성\":\"축구\", \"귀도\":\"파이썬\"}\n",
    "data_dic['김연아']"
   ]
  },
  {
   "cell_type": "markdown",
   "id": "15ce6fe4",
   "metadata": {},
   "source": [
    "#### Key 리스트 만들기(keys)"
   ]
  },
  {
   "cell_type": "code",
   "execution_count": 19,
   "id": "e4d93bd0",
   "metadata": {},
   "outputs": [
    {
     "data": {
      "text/plain": [
       "['김연아', '류현진', '박지성', '귀도']"
      ]
     },
     "execution_count": 19,
     "metadata": {},
     "output_type": "execute_result"
    }
   ],
   "source": [
    "data_dic = {\"김연아\":\"피겨스케이팅\", \"류현진\":\"야구\", \"박지성\":\"축구\", \"귀도\":\"파이썬\"}\n",
    "data_dic.keys()\n",
    "list(data_dic.keys())"
   ]
  },
  {
   "cell_type": "markdown",
   "id": "686765e4",
   "metadata": {},
   "source": [
    "#### Key, Value 쌍 얻기(items)"
   ]
  },
  {
   "cell_type": "code",
   "execution_count": 24,
   "id": "c5d207e5",
   "metadata": {},
   "outputs": [
    {
     "data": {
      "text/plain": [
       "dict_items([('김연아', '피겨스케이팅'), ('류현진', '야구'), ('박지성', '축구'), ('귀도', '파이썬')])"
      ]
     },
     "execution_count": 24,
     "metadata": {},
     "output_type": "execute_result"
    }
   ],
   "source": [
    "data_dic = {\"김연아\":\"피겨스케이팅\", \"류현진\":\"야구\", \"박지성\":\"축구\", \"귀도\":\"파이썬\"}\n",
    "data_dic.items()\n"
   ]
  },
  {
   "cell_type": "code",
   "execution_count": 25,
   "id": "e2b00245",
   "metadata": {},
   "outputs": [
    {
     "data": {
      "text/plain": [
       "[('김연아', '피겨스케이팅'), ('류현진', '야구'), ('박지성', '축구'), ('귀도', '파이썬')]"
      ]
     },
     "execution_count": 25,
     "metadata": {},
     "output_type": "execute_result"
    }
   ],
   "source": [
    "list_data = list(data_dic.items())\n",
    "list(list_data)"
   ]
  },
  {
   "cell_type": "code",
   "execution_count": 27,
   "id": "8975c9f2",
   "metadata": {},
   "outputs": [
    {
     "data": {
      "text/plain": [
       "{'김연아': '피겨스케이팅', '류현진': '야구', '박지성': '축구', '귀도': '파이썬'}"
      ]
     },
     "execution_count": 27,
     "metadata": {},
     "output_type": "execute_result"
    }
   ],
   "source": [
    "dict(list(list_data))"
   ]
  },
  {
   "cell_type": "markdown",
   "id": "8a059913",
   "metadata": {},
   "source": [
    "#### Key: Value 쌍 모두 지우기(clear)"
   ]
  },
  {
   "cell_type": "code",
   "execution_count": 30,
   "id": "36ae2cc8",
   "metadata": {},
   "outputs": [
    {
     "data": {
      "text/plain": [
       "{}"
      ]
     },
     "execution_count": 30,
     "metadata": {},
     "output_type": "execute_result"
    }
   ],
   "source": [
    "data_dic = {\"김연아\":\"피겨스케이팅\", \"류현진\":\"야구\", \"박지성\":\"축구\", \"귀도\":\"파이썬\"}\n",
    "data_dic.clear()\n",
    "data_dic"
   ]
  },
  {
   "cell_type": "markdown",
   "id": "d79c930c",
   "metadata": {},
   "source": [
    "#### Key로 Value얻기(get)"
   ]
  },
  {
   "cell_type": "code",
   "execution_count": 31,
   "id": "22c1ebe4",
   "metadata": {},
   "outputs": [
    {
     "data": {
      "text/plain": [
       "'파이썬'"
      ]
     },
     "execution_count": 31,
     "metadata": {},
     "output_type": "execute_result"
    }
   ],
   "source": [
    "data_dic = {\"김연아\":\"피겨스케이팅\", \"류현진\":\"야구\", \"박지성\":\"축구\", \"귀도\":\"파이썬\"}\n",
    "data_dic.get('귀도')"
   ]
  },
  {
   "cell_type": "code",
   "execution_count": 32,
   "id": "c4e383f3",
   "metadata": {},
   "outputs": [
    {
     "name": "stdout",
     "output_type": "stream",
     "text": [
      "None\n"
     ]
    }
   ],
   "source": [
    "d = data_dic.get('rnlehqksfhtjd')\n",
    "print(d)"
   ]
  },
  {
   "cell_type": "code",
   "execution_count": 36,
   "id": "4d9e3e53",
   "metadata": {},
   "outputs": [
    {
     "data": {
      "text/plain": [
       "{'김연아': '피겨스케이팅', '류현진': '야구', '박지성': '축구', '귀도': '파이썬'}"
      ]
     },
     "execution_count": 36,
     "metadata": {},
     "output_type": "execute_result"
    }
   ],
   "source": [
    "data_dic = {\"김연아\":\"피겨스케이팅\", \"류현진\":\"야구\", \"박지성\":\"축구\", \"귀도\":\"파이썬\"}\n",
    "key_name = {\"김연아\" , '류현진', '박지성', '귀도'}\n",
    "for name in key_name:\n",
    "    values = data_dic.get(name)\n",
    "    if values == None:\n",
    "        data_dic[name] = \"게임왕\"\n",
    "data_dic"
   ]
  },
  {
   "cell_type": "markdown",
   "id": "396cb0e5",
   "metadata": {},
   "source": [
    "#### 해당 Key가 딕셔너리 안에 있는지 조사하기(in)"
   ]
  },
  {
   "cell_type": "code",
   "execution_count": 38,
   "id": "956e90e0",
   "metadata": {},
   "outputs": [
    {
     "data": {
      "text/plain": [
       "True"
      ]
     },
     "execution_count": 38,
     "metadata": {},
     "output_type": "execute_result"
    }
   ],
   "source": [
    "data_dic = {\"김연아\":\"피겨스케이팅\", \"류현진\":\"야구\", \"박지성\":\"축구\", \"귀도\":\"파이썬\"}\n",
    "\"류현진\" in data_dic"
   ]
  },
  {
   "cell_type": "code",
   "execution_count": 39,
   "id": "1086c470",
   "metadata": {},
   "outputs": [
    {
     "data": {
      "text/plain": [
       "{'김연아': '피겨스케이팅', '류현진': '야구', '박지성': '축구', '귀도': '파이썬'}"
      ]
     },
     "execution_count": 39,
     "metadata": {},
     "output_type": "execute_result"
    }
   ],
   "source": [
    "data_dic = {\"김연아\":\"피겨스케이팅\", \"류현진\":\"야구\", \"박지성\":\"축구\", \"귀도\":\"파이썬\"}\n",
    "key_name = {\"김연아\" , '류현진', '박지성', '귀도'}\n",
    "if \"귀도\" not in data_dic:\n",
    "    data_dic[name] = '게임왕'\n",
    "    \n",
    "data_dic"
   ]
  },
  {
   "cell_type": "code",
   "execution_count": null,
   "id": "5576e295",
   "metadata": {},
   "outputs": [],
   "source": []
  }
 ],
 "metadata": {
  "kernelspec": {
   "display_name": "Python 3",
   "language": "python",
   "name": "python3"
  },
  "language_info": {
   "codemirror_mode": {
    "name": "ipython",
    "version": 3
   },
   "file_extension": ".py",
   "mimetype": "text/x-python",
   "name": "python",
   "nbconvert_exporter": "python",
   "pygments_lexer": "ipython3",
   "version": "3.8.9"
  }
 },
 "nbformat": 4,
 "nbformat_minor": 5
}
